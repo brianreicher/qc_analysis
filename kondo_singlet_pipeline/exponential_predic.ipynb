{
 "cells": [
  {
   "cell_type": "code",
   "execution_count": 99,
   "metadata": {},
   "outputs": [],
   "source": [
    "import numpy as np\n",
    "import pandas as pd\n",
    "import torch\n",
    "import tensorflow"
   ]
  },
  {
   "cell_type": "markdown",
   "metadata": {},
   "source": [
    "Generate dataset"
   ]
  },
  {
   "cell_type": "markdown",
   "metadata": {},
   "source": [
    "- Consider the exponential function f(x)=exp(-x/c), with x=0,1,2,….,L-1 integers\n",
    "- Generate many training datasets {f(0,f(1),f(2),…f(L-1)} for different values of c\n",
    "- Now we solve the inverse problem: input c and see if you get the exponential."
   ]
  },
  {
   "cell_type": "code",
   "execution_count": 88,
   "metadata": {},
   "outputs": [],
   "source": [
    "#Returns a dataframe of calculated exponential functions for given C-parameters and L-angular quantum numbers\n",
    "class GenerateData:\n",
    "    def __init__(self, l):\n",
    "        self.l = l\n",
    "        self.x = np.arange(l)\n",
    "        self.c = np.arange(start=0.0001, stop=1, step = 0.0001)\n",
    "    \n",
    "    #Evaluate function for given c-values\n",
    "    @staticmethod\n",
    "    def func(input, arg):\n",
    "        return np.e**(-input/arg)\n",
    "    \n",
    "    #Create dataset: 100,000 funcs?\n",
    "    def populate(self):\n",
    "        func_df = pd.DataFrame(index = self.c.tolist())\n",
    "        for i in self.x:\n",
    "            col = []\n",
    "            for j in self.c:\n",
    "                col.append(GenerateData(self.l).func(input = i, arg = j))\n",
    "            func_df[i] = col\n",
    "        func_df['c'] = self.c\n",
    "        return func_df\n",
    "    \n",
    "    #Set param value for integer L-value (angular momentum quantum number)\n",
    "    def Data(self):\n",
    "        return GenerateData(self.l).populate()"
   ]
  },
  {
   "cell_type": "markdown",
   "metadata": {},
   "source": [
    "Dataframe for Exponential Function Values: Rows = C-values, Columns = Integer X-values"
   ]
  },
  {
   "cell_type": "code",
   "execution_count": 120,
   "metadata": {},
   "outputs": [
    {
     "data": {
      "text/plain": "          0         1         2         3       c\n0.0001  1.0  0.000000  0.000000  0.000000  0.0001\n0.0002  1.0  0.000000  0.000000  0.000000  0.0002\n0.0003  1.0  0.000000  0.000000  0.000000  0.0003\n0.0004  1.0  0.000000  0.000000  0.000000  0.0004\n0.0005  1.0  0.000000  0.000000  0.000000  0.0005\n...     ...       ...       ...       ...     ...\n0.9995  1.0  0.367695  0.135200  0.049712  0.9995\n0.9996  1.0  0.367732  0.135227  0.049727  0.9996\n0.9997  1.0  0.367769  0.135254  0.049742  0.9997\n0.9998  1.0  0.367806  0.135281  0.049757  0.9998\n0.9999  1.0  0.367843  0.135308  0.049772  0.9999\n\n[9999 rows x 5 columns]",
      "text/html": "<div>\n<style scoped>\n    .dataframe tbody tr th:only-of-type {\n        vertical-align: middle;\n    }\n\n    .dataframe tbody tr th {\n        vertical-align: top;\n    }\n\n    .dataframe thead th {\n        text-align: right;\n    }\n</style>\n<table border=\"1\" class=\"dataframe\">\n  <thead>\n    <tr style=\"text-align: right;\">\n      <th></th>\n      <th>0</th>\n      <th>1</th>\n      <th>2</th>\n      <th>3</th>\n      <th>c</th>\n    </tr>\n  </thead>\n  <tbody>\n    <tr>\n      <th>0.0001</th>\n      <td>1.0</td>\n      <td>0.000000</td>\n      <td>0.000000</td>\n      <td>0.000000</td>\n      <td>0.0001</td>\n    </tr>\n    <tr>\n      <th>0.0002</th>\n      <td>1.0</td>\n      <td>0.000000</td>\n      <td>0.000000</td>\n      <td>0.000000</td>\n      <td>0.0002</td>\n    </tr>\n    <tr>\n      <th>0.0003</th>\n      <td>1.0</td>\n      <td>0.000000</td>\n      <td>0.000000</td>\n      <td>0.000000</td>\n      <td>0.0003</td>\n    </tr>\n    <tr>\n      <th>0.0004</th>\n      <td>1.0</td>\n      <td>0.000000</td>\n      <td>0.000000</td>\n      <td>0.000000</td>\n      <td>0.0004</td>\n    </tr>\n    <tr>\n      <th>0.0005</th>\n      <td>1.0</td>\n      <td>0.000000</td>\n      <td>0.000000</td>\n      <td>0.000000</td>\n      <td>0.0005</td>\n    </tr>\n    <tr>\n      <th>...</th>\n      <td>...</td>\n      <td>...</td>\n      <td>...</td>\n      <td>...</td>\n      <td>...</td>\n    </tr>\n    <tr>\n      <th>0.9995</th>\n      <td>1.0</td>\n      <td>0.367695</td>\n      <td>0.135200</td>\n      <td>0.049712</td>\n      <td>0.9995</td>\n    </tr>\n    <tr>\n      <th>0.9996</th>\n      <td>1.0</td>\n      <td>0.367732</td>\n      <td>0.135227</td>\n      <td>0.049727</td>\n      <td>0.9996</td>\n    </tr>\n    <tr>\n      <th>0.9997</th>\n      <td>1.0</td>\n      <td>0.367769</td>\n      <td>0.135254</td>\n      <td>0.049742</td>\n      <td>0.9997</td>\n    </tr>\n    <tr>\n      <th>0.9998</th>\n      <td>1.0</td>\n      <td>0.367806</td>\n      <td>0.135281</td>\n      <td>0.049757</td>\n      <td>0.9998</td>\n    </tr>\n    <tr>\n      <th>0.9999</th>\n      <td>1.0</td>\n      <td>0.367843</td>\n      <td>0.135308</td>\n      <td>0.049772</td>\n      <td>0.9999</td>\n    </tr>\n  </tbody>\n</table>\n<p>9999 rows × 5 columns</p>\n</div>"
     },
     "execution_count": 120,
     "metadata": {},
     "output_type": "execute_result"
    }
   ],
   "source": [
    "data = GenerateData(4).Data()\n",
    "data"
   ]
  },
  {
   "cell_type": "markdown",
   "metadata": {},
   "source": [
    "Initialize neural net"
   ]
  },
  {
   "cell_type": "code",
   "execution_count": 121,
   "metadata": {},
   "outputs": [
    {
     "name": "stdout",
     "output_type": "stream",
     "text": [
      "Using cpu device\n"
     ]
    }
   ],
   "source": [
    "from torch import nn\n",
    "from torch.utils.data import DataLoader\n",
    "device = \"cuda\" if torch.cuda.is_available() else \"cpu\"\n",
    "print(f\"Using {device} device\")"
   ]
  },
  {
   "cell_type": "markdown",
   "metadata": {},
   "source": [
    "Linear stack NN with a Softmax screen - initiate with nodes equal to L-value"
   ]
  },
  {
   "cell_type": "code",
   "execution_count": 122,
   "metadata": {},
   "outputs": [
    {
     "name": "stdout",
     "output_type": "stream",
     "text": [
      "NeuralNetwork(\n",
      "  (linear_relu_stack): Sequential(\n",
      "    (0): Linear(in_features=5, out_features=100, bias=True)\n",
      "    (1): ReLU()\n",
      "    (2): Linear(in_features=100, out_features=100, bias=True)\n",
      "    (3): ReLU()\n",
      "    (4): Linear(in_features=30, out_features=3, bias=True)\n",
      "  )\n",
      ")\n"
     ]
    }
   ],
   "source": [
    "class NeuralNetwork(nn.Module):\n",
    "    def __init__(self):\n",
    "        super(NeuralNetwork, self).__init__()\n",
    "        self.linear_relu_stack = nn.Sequential(\n",
    "            nn.Linear(len(data.columns), 100),\n",
    "            nn.ReLU(),\n",
    "            nn.Linear(100, 100),\n",
    "            nn.ReLU(),\n",
    "            nn.Linear(30, 3),\n",
    "        )\n",
    "\n",
    "    def forward(self, x):\n",
    "        forward = self.linear_relu_stack(x)\n",
    "        return forward\n",
    "\n",
    "model = NeuralNetwork()\n",
    "print(model)"
   ]
  },
  {
   "cell_type": "markdown",
   "metadata": {},
   "source": [
    "Implementation of Dataloader for Tensor Values"
   ]
  },
  {
   "cell_type": "code",
   "execution_count": 123,
   "outputs": [],
   "source": [
    "#Drop indicies for labels\n",
    "drop_vals = np.arange(len(data.columns)-1).tolist()\n",
    "\n",
    "#Set training and testing datasets and dataloaders\n",
    "training_data = test_data = data.to_numpy()\n",
    "\n",
    "train_dataloader = DataLoader(training_data, shuffle = True, batch_size=1)\n",
    "test_dataloader = DataLoader(test_data, shuffle = False, batch_size=1)"
   ],
   "metadata": {
    "collapsed": false,
    "pycharm": {
     "name": "#%%\n"
    }
   }
  },
  {
   "cell_type": "markdown",
   "metadata": {},
   "source": [
    "Model Params"
   ]
  },
  {
   "cell_type": "code",
   "execution_count": 124,
   "metadata": {},
   "outputs": [],
   "source": [
    "learning_rate = 1e-3\n",
    "batch_size = 64\n",
    "epochs = 5\n",
    "\n",
    "loss_fn = nn.CrossEntropyLoss()\n",
    "optimizer = torch.optim.SGD(model.parameters(), lr=learning_rate)"
   ]
  },
  {
   "cell_type": "markdown",
   "source": [
    "Model Training/Testing"
   ],
   "metadata": {
    "collapsed": false
   }
  },
  {
   "cell_type": "code",
   "execution_count": 149,
   "metadata": {},
   "outputs": [
    {
     "ename": "TypeError",
     "evalue": "unsupported operand type(s) for -: 'tuple' and 'int'",
     "output_type": "error",
     "traceback": [
      "\u001B[0;31m---------------------------------------------------------------------------\u001B[0m",
      "\u001B[0;31mTypeError\u001B[0m                                 Traceback (most recent call last)",
      "Input \u001B[0;32mIn [149]\u001B[0m, in \u001B[0;36m<cell line: 1>\u001B[0;34m()\u001B[0m\n\u001B[1;32m      3\u001B[0m running_loss \u001B[38;5;241m=\u001B[39m \u001B[38;5;241m0.0\u001B[39m\n\u001B[1;32m      4\u001B[0m \u001B[38;5;28;01mfor\u001B[39;00m data \u001B[38;5;129;01min\u001B[39;00m \u001B[38;5;28menumerate\u001B[39m(train_dataloader):\n\u001B[1;32m      5\u001B[0m     \u001B[38;5;66;03m# get the inputs; data is a list of [inputs, labels]\u001B[39;00m\n\u001B[0;32m----> 6\u001B[0m     labels \u001B[38;5;241m=\u001B[39m data[\u001B[38;5;241m0\u001B[39m][\u001B[38;5;28mlen\u001B[39m(\u001B[43mdata\u001B[49m\u001B[38;5;241;43m-\u001B[39;49m\u001B[38;5;241;43m1\u001B[39;49m)]\n\u001B[1;32m      8\u001B[0m     l \u001B[38;5;241m=\u001B[39m \u001B[38;5;28mlen\u001B[39m(data[\u001B[38;5;241m0\u001B[39m])\u001B[38;5;241m-\u001B[39m\u001B[38;5;241m1\u001B[39m\n\u001B[1;32m      9\u001B[0m     inputs \u001B[38;5;241m=\u001B[39m data[\u001B[38;5;241m0\u001B[39m][\u001B[38;5;241m0\u001B[39m:l]\n",
      "\u001B[0;31mTypeError\u001B[0m: unsupported operand type(s) for -: 'tuple' and 'int'"
     ]
    }
   ],
   "source": [
    "for epoch in range(2):  # loop over the dataset multiple times\n",
    "    count = 0\n",
    "    running_loss = 0.0\n",
    "    for data in enumerate(train_dataloader):\n",
    "        # get the inputs; data is a list of [inputs, labels]\n",
    "        labels = data[0][len(data-1)]\n",
    "\n",
    "        l = len(data[0])-1\n",
    "        inputs = data[0][0:l]\n",
    "        count+=1\n",
    "        # zero the parameter gradients\n",
    "        optimizer.zero_grad()\n",
    "\n",
    "        # forward + backward + optimize\n",
    "        outputs = model(inputs)\n",
    "        loss = criterion(outputs, labels)\n",
    "        loss.backward()\n",
    "        optimizer.step()\n",
    "\n",
    "        # print statistics\n",
    "        running_loss += loss.item()\n",
    "        if i % 2000 == 1999:    # print every 2000 mini-batches\n",
    "            print(f'[{epoch + 1}, {i + 1:5d}] loss: {running_loss / 2000:.3f}')\n",
    "            running_loss = 0.0\n",
    "\n",
    "print('Finished Training')"
   ]
  },
  {
   "cell_type": "markdown",
   "metadata": {},
   "source": [
    "Sample Testing of Network on Random Tensors"
   ]
  },
  {
   "cell_type": "code",
   "execution_count": 19,
   "metadata": {},
   "outputs": [
    {
     "name": "stdout",
     "output_type": "stream",
     "text": [
      "Predicted class: tensor([1, 1, 1, 1, 1, 1, 1, 1, 1, 1, 1, 1, 1, 1, 1, 1, 1, 1, 1, 1, 1, 1, 1, 1,\n",
      "        1, 1, 1, 1, 1, 1, 1, 1, 1, 1, 1, 1, 1, 1, 1, 1, 1, 1, 1, 1, 1, 1, 1, 1,\n",
      "        1, 1, 1, 1, 1, 1, 1, 1, 1, 1, 1, 1, 1, 1, 1, 1, 1, 1, 1, 1, 1, 1, 1, 1,\n",
      "        1, 1, 1, 1, 1, 1, 1, 1, 1, 1, 1, 1, 1, 1, 1, 1, 1, 1, 1, 1, 1, 1, 1, 1,\n",
      "        1, 1, 1, 1])\n"
     ]
    }
   ],
   "source": [
    "X = torch.rand(100, 1, device=device)\n",
    "logits = model(X)\n",
    "pred_probab = nn.Softmax(dim=1)(logits)\n",
    "y_pred = pred_probab.argmax(1)\n",
    "print(f\"Predicted class: {y_pred}\")"
   ]
  }
 ],
 "metadata": {
  "interpreter": {
   "hash": "52609788a0d7b076df1f6e94b2eeac5018bf766632da13e4e0939799074b2c6e"
  },
  "kernelspec": {
   "display_name": "Python 3.10.0 ('kondo')",
   "language": "python",
   "name": "python3"
  },
  "language_info": {
   "codemirror_mode": {
    "name": "ipython",
    "version": 3
   },
   "file_extension": ".py",
   "mimetype": "text/x-python",
   "name": "python",
   "nbconvert_exporter": "python",
   "pygments_lexer": "ipython3",
   "version": "3.10.0"
  },
  "orig_nbformat": 4
 },
 "nbformat": 4,
 "nbformat_minor": 2
}